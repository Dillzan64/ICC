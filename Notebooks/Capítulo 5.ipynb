{
 "cells": [
  {
   "cell_type": "markdown",
   "metadata": {},
   "source": [
    "# Capitulo 5"
   ]
  },
  {
   "cell_type": "code",
   "execution_count": null,
   "metadata": {},
   "outputs": [],
   "source": [
    "#Exercicio 5.1\n",
    "x=0 \n",
    "while x < 100:\n",
    "    x = x+1\n",
    "    print(x)"
   ]
  },
  {
   "cell_type": "code",
   "execution_count": null,
   "metadata": {},
   "outputs": [],
   "source": [
    "#Exercicio 5.2\n",
    "x=0\n",
    "while x<100:\n",
    "    x = x+1\n",
    "    if x >= 50:\n",
    "        print(x)"
   ]
  },
  {
   "cell_type": "code",
   "execution_count": null,
   "metadata": {},
   "outputs": [],
   "source": [
    "#Exercicio 5.3\n",
    "x = 10\n",
    "while x > 0:\n",
    "    print(x)\n",
    "    x=x-1\n",
    "    if x == 0:\n",
    "        print(\"Fogo\")"
   ]
  },
  {
   "cell_type": "code",
   "execution_count": null,
   "metadata": {},
   "outputs": [],
   "source": [
    "#Exercicio 5.4\n",
    "fim = int(input(\"Digite o ultimo numero impar a imprimir.\"))\n",
    "x = 1\n",
    "while x <= fim:\n",
    "    print(x)\n",
    "    x = x+2"
   ]
  },
  {
   "cell_type": "code",
   "execution_count": 8,
   "metadata": {},
   "outputs": [],
   "source": [
    "#exercicio 5.5\n",
    "fim = int(input(\"Digite um numero e serão impressos todos os mutiplos de 3 anteriores.\"))\n",
    "x = 1\n",
    "y = 0\n",
    "while y >= 10:\n",
    "    if x % 3 == 0:\n",
    "        print(x)\n",
    "        y = y+1\n",
    "    x = x+2"
   ]
  },
  {
   "cell_type": "code",
   "execution_count": null,
   "metadata": {},
   "outputs": [],
   "source": [
    "#Exercicio 5.6\n",
    "print(\"Tabuada de 2\")\n",
    "x = 1\n",
    "while x <=10:\n",
    "    n = x*2\n",
    "    print(n)\n",
    "    x=x+1\n"
   ]
  },
  {
   "cell_type": "code",
   "execution_count": null,
   "metadata": {},
   "outputs": [],
   "source": [
    "#Einitercicio 5.7\n",
    "init = int(input(\"Digite o inicio da tabuada de 2\"))\n",
    "end = int(input(\"Digite o fim da tabuada de 2\"))\n",
    "while init <= end :\n",
    "    n = init*2\n",
    "    print(n)\n",
    "    init=init+1"
   ]
  },
  {
   "cell_type": "code",
   "execution_count": 24,
   "metadata": {},
   "outputs": [
    {
     "name": "stdout",
     "output_type": "stream",
     "text": [
      "30\n"
     ]
    }
   ],
   "source": [
    "#Exercicio 5.8\n",
    "#Multiplicando com soma\n",
    "num1 = int(input(\"Digite um numero.\"))\n",
    "num2 = int(input(\"Digite um numero para multiplicar o primeiro.\"))\n",
    "count = 1\n",
    "result = 0\n",
    "while count <= num2:\n",
    "    result = result + num1\n",
    "    count = count + 1\n",
    "print(result)\n",
    "\n",
    "  "
   ]
  },
  {
   "cell_type": "code",
   "execution_count": 33,
   "metadata": {},
   "outputs": [
    {
     "name": "stdout",
     "output_type": "stream",
     "text": [
      "10\n"
     ]
    }
   ],
   "source": [
    "#Exercicio 5.9\n",
    "#divisor inteiro com subtração \n",
    "num1 = int(input(\"Digite um numero.\"))\n",
    "num2 = int(input(\"Digite um numero para dividir o primeiro.\"))\n",
    "count = 1\n",
    "while num1 > num2:\n",
    "    num1 = num1 - num2\n",
    "    count = count + 1\n",
    "print(count)"
   ]
  },
  {
   "cell_type": "code",
   "execution_count": 48,
   "metadata": {},
   "outputs": [
    {
     "name": "stdout",
     "output_type": "stream",
     "text": [
      "O aluno fez 3 pontos(s)\n"
     ]
    }
   ],
   "source": [
    "#Exercicio 5.10\n",
    "questão = 1\n",
    "pontos = 0\n",
    "while questão <= 3:\n",
    "    resposta = input(\"Resposta da questão %d: \" % questão)\n",
    "    if questão == 1 and resposta == \"b\" or resposta == \"B\":\n",
    "        pontos = pontos + 1\n",
    "    if questão == 2 and resposta == \"a\" or resposta == \"A\":\n",
    "        pontos = pontos + 1\n",
    "    if questão == 3 and resposta == \"d\" or resposta == \"D\":\n",
    "        pontos = pontos + 1\n",
    "    questão += 1\n",
    "print(\"O aluno fez %d pontos(s)\" % pontos)"
   ]
  },
  {
   "cell_type": "code",
   "execution_count": null,
   "metadata": {},
   "outputs": [],
   "source": [
    "#Exercicio 5.11\n",
    "deposito = float(input(\"Digite o valor do deposito inicial.\"))\n",
    "juros = float(input(\"Digite a porcentagem de juros mensal.\"))\n",
    "mensal = deposito\n",
    "ganhoF = 0\n",
    "count = 1\n",
    "while count <=24:   \n",
    "    ganhoM =(mensal/100)*juros\n",
    "    ganhoF = ganhoF + ganhoM\n",
    "    mensal = ganhoM + mensal\n",
    "    count = count +1 \n",
    "    print(\"Seu saldo mensal é de %5.2f R$ com %5.2f R$ no mes\" % (mensal, ganhoM))\n",
    "\n",
    "print(\"Seu ganho total foi de %5.2f\" % (ganhoF))"
   ]
  },
  {
   "cell_type": "code",
   "execution_count": null,
   "metadata": {},
   "outputs": [],
   "source": [
    "#Exercicio 5.12\n",
    "deposito = float(input(\"Digite o valor do deposito inicial.\"))\n",
    "juros = float(input(\"Digite a porcentagem de juros mensal.\"))\n",
    "mensal = deposito\n",
    "ganhoF = 0\n",
    "count = 1\n",
    "while count <=24:\n",
    "    ganhoM =(mensal/100)*juros\n",
    "    ganhoF = ganhoF + ganhoM\n",
    "    mensal = ganhoM + mensal\n",
    "    count = count +1 \n",
    "    print(\"Seu saldo é de %5.2f R$ com %5.2f R$ no mes\" % (mensal, ganhoM))\n",
    "    Adc = float(input(\"qual valor deseja adicionar a sua poupança?\"))\n",
    "    mensal = mensal + Adc\n",
    "print(\"Seu ganho total foi de %5.2f\" % (ganhoF))"
   ]
  },
  {
   "cell_type": "code",
   "execution_count": 18,
   "metadata": {},
   "outputs": [
    {
     "name": "stdout",
     "output_type": "stream",
     "text": [
      "Sua divida será paga em 30 meses.\n",
      "O valor final da sua divida é de 12000.00 e o total de juros pago é de 9000.00\n"
     ]
    }
   ],
   "source": [
    "#Exercicio 5.13\n",
    "#divida para juros fixo\n",
    "divida = float(input(\"Qual o valor da divida?\"))\n",
    "juros = float(input(\"Qual o pecentual de juros?\"))\n",
    "parcela =float(input(\"Quanto pretende pagar por mes?\"))\n",
    "meses = divida/parcela\n",
    "jurosF = 0\n",
    "count = 1\n",
    "while meses >= count:\n",
    "    jurosM = (divida/100)*juros\n",
    "    jurosF = jurosF + jurosM\n",
    "    dividaF = divida + jurosF\n",
    "    count = count + 1\n",
    "print(\"Sua divida será paga em %d meses.\"%meses)\n",
    "print(\"O valor final da sua divida é de %5.2f e o total de juros pago é de %5.2f\"%(dividaF, jurosF))"
   ]
  },
  {
   "cell_type": "code",
   "execution_count": 9,
   "metadata": {},
   "outputs": [
    {
     "name": "stdout",
     "output_type": "stream",
     "text": [
      "A media atual é de  8.00.\n"
     ]
    }
   ],
   "source": [
    "#Exercicio 5.14\n",
    "count = 1\n",
    "vF = 0\n",
    "while True:\n",
    "    v = float(input(\"Digite os numeros para tirar a media aritmetica ou 0 para sair\"))\n",
    "    if v == 0:\n",
    "        break\n",
    "    vF = vF + v\n",
    "    media = vF/count\n",
    "    print(\"A media atual é de %5.2f.\" % media)\n",
    "    count = count + 1\n",
    "print(\"Até logo\")"
   ]
  },
  {
   "cell_type": "code",
   "execution_count": null,
   "metadata": {},
   "outputs": [],
   "source": [
    "#Exercicio 5.15\n",
    "#Maquina registradora\n",
    "prod = 0\n",
    "preco = 0\n",
    "while True:\n",
    "    codigo = int(input(\"Digite o codigo do produto ou digite 0 para sair.\"))\n",
    "    if codigo == 1:\n",
    "        preco = preco + 0.50\n",
    "    elif codigo == 2:\n",
    "        preco = preco + 1.00\n",
    "    elif codigo == 3:\n",
    "        preco = preco + 4.00\n",
    "    elif codigo == 5:\n",
    "        preco = preco + 7.00\n",
    "    elif codigo == 9:\n",
    "        preco = preco + 8.00\n",
    "    elif codigo == 0:\n",
    "        break\n",
    "    else:\n",
    "        print(\"Código inválido.\")\n",
    "    prod = prod + 1\n",
    "print(\"Seu carrinho tem um total de %d produtos\"%prod)\n",
    "print(\"Valor da sua compra foi de %5.2f\"% preco)"
   ]
  },
  {
   "cell_type": "code",
   "execution_count": 6,
   "metadata": {},
   "outputs": [],
   "source": [
    "#Exercicio 5.16 Dá erro em cada valor\n",
    "#Exercicio 5.17 Ocorre um erro \"0 cedulas de 100\"\n",
    "#Exercicio 5.18\n",
    "#Exercicio 5.19\n",
    "#Exercicio 5.20\n",
    "#Exercicio 5.21\n",
    "while True:\n",
    "    atual = 100\n",
    "    cédulas = 0    \n",
    "    valor = float(input(\"Digite o valor a pagar: Ou digite 0 para sair \"))\n",
    "    apagar = valor \n",
    "    if valor == 0:\n",
    "        break\n",
    "    if atual <= apagar:\n",
    "        apagar = apagar - atual\n",
    "        cédulas +=1 \n",
    "    else:\n",
    "        print(\"%d cédula(s) ou moeda(s) de R$%5.2f\" % (cédulas, atual))\n",
    "        if apagar == 0:\n",
    "            break \n",
    "        elif atual == 100:\n",
    "            atual = 50\n",
    "        elif atual == 50:\n",
    "            atual = 20\n",
    "        elif atual == 20:\n",
    "            atual = 10\n",
    "        elif atual == 10:\n",
    "            atual = 5\n",
    "        elif atual == 5:\n",
    "            atual = 1\n",
    "        elif atual == 1:\n",
    "            atual = 0.50\n",
    "        elif atual == 0.50:\n",
    "            atual = 0.10\n",
    "        elif atual == 0.10:\n",
    "            atual = 0.05\n",
    "        elif atual == 0.05:\n",
    "            atual = 0.02\n",
    "        elif atual == 0.02:\n",
    "            atual = 0.01\n",
    "        else:\n",
    "            break\n",
    "        cédulas = 0"
   ]
  },
  {
   "cell_type": "code",
   "execution_count": null,
   "metadata": {},
   "outputs": [],
   "source": [
    "#Exercicio 5.22\n",
    "while True:\n",
    "    Sel = int(input(\"Escolha uma opção:\"))\n",
    "    if Sel == 0:\n",
    "        break\n",
    "    elif Sel >= 1 and Sel <= 4:\n",
    "        n = int(input(\"Tabuada de:\"))\n",
    "        x = 1\n",
    "        while x <= 10:\n",
    "            if Sel == 1:\n",
    "                print(\"(n) + (x) = (n + x)\")\n",
    "            elif Sel == 2:\n",
    "                print(\"(n) - (x) = (n - x)\")\n",
    "            elif Sel == 3:\n",
    "                print(\"(n) / (x) = (n / x:5.2f)\")\n",
    "            elif Sel == 4:\n",
    "                print(\"(n) x (x) = (n * x)\")\n",
    "            x += 1\n",
    "    else:\n",
    "        print(\"Opção inválida!\")"
   ]
  },
  {
   "cell_type": "code",
   "execution_count": null,
   "metadata": {},
   "outputs": [],
   "source": [
    "#Exercicio 5.23"
   ]
  },
  {
   "cell_type": "code",
   "execution_count": null,
   "metadata": {},
   "outputs": [],
   "source": [
    "#Exercicio 5.24"
   ]
  },
  {
   "cell_type": "code",
   "execution_count": null,
   "metadata": {},
   "outputs": [],
   "source": [
    "#Exercicio 5.25"
   ]
  },
  {
   "cell_type": "code",
   "execution_count": null,
   "metadata": {},
   "outputs": [],
   "source": [
    "#Exercicio 5.26"
   ]
  },
  {
   "cell_type": "code",
   "execution_count": null,
   "metadata": {},
   "outputs": [],
   "source": [
    "#Exercicio 5.27"
   ]
  }
 ],
 "metadata": {
  "kernelspec": {
   "display_name": "Python 3",
   "language": "python",
   "name": "python3"
  },
  "language_info": {
   "codemirror_mode": {
    "name": "ipython",
    "version": 3
   },
   "file_extension": ".py",
   "mimetype": "text/x-python",
   "name": "python",
   "nbconvert_exporter": "python",
   "pygments_lexer": "ipython3",
   "version": "3.10.11"
  },
  "orig_nbformat": 4
 },
 "nbformat": 4,
 "nbformat_minor": 2
}
