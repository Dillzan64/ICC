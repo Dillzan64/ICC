{
 "cells": [
  {
   "cell_type": "markdown",
   "metadata": {},
   "source": []
  },
  {
   "cell_type": "markdown",
   "metadata": {},
   "source": [
    "### Capitulo 2\n",
    "#### Preparando o ambiente\n",
    "Neste capitulo conhecemos o interpretador Python que é responsável por “traduzir” o nosso codigo para que o computador possa compreende-lo, o interpretador indica erros (se houverem) e executa os comandos linha a linha.  \n",
    "\n",
    ">O livro recomenda a utilização do Python 3.4 pois sofreu diversas alterações entre a versão 2 e 3, nessa etapa o livro nos ensina a baixar e instalar o Python nos sistemas operacionais mais populares (Windows, Linux e Mac), neste trabalho utilizo a versão 3.10 e o interpretador disponível na biblioteca do aplicativo _Vs Code_.  \n",
    "\n",
    "Para prosseguirmos precisamos de um editor de textos especial que suporte a edição em UTF-8 (é um tipo de codificação binaria ou Unicode com suporte a ASCII) o editor utilizado neste trabalho é o já mencionado _Vs Code_, estes editores tornam a compreensão facilitada destacando por cores o codigo indicando: funcoes, variáveis, linhas de erro (se houverem) e permitindo a utilização de acentos.  \n",
    "\n",
    "Ao salvar adicionamos a extinção que e caracteriza pelo final **_.py_** todos os arquivos Python devem ser salvos neste formato como: **_Exemplo.py_**.  \n",
    "\n",
    "Após terminar seu codigo podemos executá-lo ou testar apertando F5 (no editor idle) ou selecionando a opção _run_ em outros editores Python.\n",
    "\n",
    ">Lembre-se de salvar antes de executar o programa.  \n",
    "\n",
    "No capítulo 2.4 temos uma listagem de cuidados ao digitamos um programa que resumidamente são: \n",
    "* \tLetras maiúsculas e minúsculas são interpretadas de formas diferentes o que pode gerar erro se utilizamos ou não a capitalização (Ou maiusculização) em alguma função que deveria ser escrita inteiramente com letras minúsculas \n",
    "* Aspas “” são essenciais, ao abri-las lembre-se sempre de fecha-las\n",
    "* Parênteses são obrigatórios nunca os remova! Assim como as aspas sempre se lembre de fechá-los\n",
    "*    Atenção com espaços e tabulação, os espaços são tão importantes quanto os caracteres digitados um único espaço (ou a falta dele) pode ser a diferença entre o programa funcionar ou não \n",
    "\n",
    "Dissecando uma função:\n",
    "| Print  | (           | \"      | Olá mundo | \"      | )           |\n",
    "| ------ | ----------- | ------ | --------- | ------ | ----------- |\n",
    "| Função | Parênteses  | Aspas  | Mensagem  | Aspas  | Parênteses  |"
   ]
  },
  {
   "cell_type": "markdown",
   "metadata": {},
   "source": [
    "| **Print**   | **É a função a ser executada, quem dirá ao computador \"Imprima a sequencia de caracteres delimitada a seguir\"_ Sempre que for necessário exibir uma mensagem a funçào `Print` será utilizada.** |\n",
    "| --------- | ------------------------------------------------------------------------------------------------------------------------------------------------------------------------------------------ |\n",
    "| **()**       | **Parênteses é utilizado para separar os parametros de uma função**                                                                                                                  |\n",
    "| **\"\"**        | **Aspas delimitam o inicio e o fim da mensagem escrita para que o computador a entenda**                                                                                                       |\n",
    "|**Olá mundo** | **É a mensagem a ser passada para o usuário,  podendo ser qualquer sequencia de caracteres (String)**        "
   ]
  },
  {
   "cell_type": "markdown",
   "metadata": {},
   "source": [
    "## Listagem 2.1 a 2.6 \n",
    "##### Operacoes matematicas"
   ]
  },
  {
   "cell_type": "code",
   "execution_count": 13,
   "metadata": {},
   "outputs": [
    {
     "data": {
      "text/plain": [
       "5"
      ]
     },
     "execution_count": 13,
     "metadata": {},
     "output_type": "execute_result"
    }
   ],
   "source": [
    "#Adição\n",
    "2+3"
   ]
  },
  {
   "cell_type": "code",
   "execution_count": 14,
   "metadata": {},
   "outputs": [
    {
     "data": {
      "text/plain": [
       "2"
      ]
     },
     "execution_count": 14,
     "metadata": {},
     "output_type": "execute_result"
    }
   ],
   "source": [
    "#Subtração\n",
    "5-3"
   ]
  },
  {
   "cell_type": "code",
   "execution_count": 15,
   "metadata": {},
   "outputs": [
    {
     "data": {
      "text/plain": [
       "8"
      ]
     },
     "execution_count": 15,
     "metadata": {},
     "output_type": "execute_result"
    }
   ],
   "source": [
    "#Adição e subtração\n",
    "10-4+2"
   ]
  },
  {
   "cell_type": "code",
   "execution_count": 16,
   "metadata": {},
   "outputs": [
    {
     "data": {
      "text/plain": [
       "20"
      ]
     },
     "execution_count": 16,
     "metadata": {},
     "output_type": "execute_result"
    }
   ],
   "source": [
    "#Mutiplição\n",
    "2*10"
   ]
  },
  {
   "cell_type": "code",
   "execution_count": 17,
   "metadata": {},
   "outputs": [
    {
     "data": {
      "text/plain": [
       "5.0"
      ]
     },
     "execution_count": 17,
     "metadata": {},
     "output_type": "execute_result"
    }
   ],
   "source": [
    "#Divisão\n",
    "20/4"
   ]
  },
  {
   "cell_type": "code",
   "execution_count": 18,
   "metadata": {},
   "outputs": [
    {
     "data": {
      "text/plain": [
       "8"
      ]
     },
     "execution_count": 18,
     "metadata": {},
     "output_type": "execute_result"
    }
   ],
   "source": [
    "#Exponeciação\n",
    "2**3"
   ]
  },
  {
   "cell_type": "code",
   "execution_count": 19,
   "metadata": {},
   "outputs": [
    {
     "data": {
      "text/plain": [
       "1"
      ]
     },
     "execution_count": 19,
     "metadata": {},
     "output_type": "execute_result"
    }
   ],
   "source": [
    "#Resto da divisão inteira\n",
    "10%3"
   ]
  },
  {
   "cell_type": "markdown",
   "metadata": {},
   "source": [
    "    Os parenteses em operações com python funcionam da mesma forma que em uma operação convencional, o python tambem respeita a prioridade das operações (**PEMDAS**).  \n",
    "    ## Exercício 2.1"
   ]
  },
  {
   "cell_type": "code",
   "execution_count": 21,
   "metadata": {},
   "outputs": [
    {
     "data": {
      "text/plain": [
       "610"
      ]
     },
     "execution_count": 21,
     "metadata": {},
     "output_type": "execute_result"
    }
   ],
   "source": [
    "10+20*30"
   ]
  },
  {
   "cell_type": "code",
   "execution_count": 22,
   "metadata": {},
   "outputs": [
    {
     "data": {
      "text/plain": [
       "0.5333333333333333"
      ]
     },
     "execution_count": 22,
     "metadata": {},
     "output_type": "execute_result"
    }
   ],
   "source": [
    "4**2/30"
   ]
  },
  {
   "cell_type": "code",
   "execution_count": 24,
   "metadata": {},
   "outputs": [
    {
     "data": {
      "text/plain": [
       "39377"
      ]
     },
     "execution_count": 24,
     "metadata": {},
     "output_type": "execute_result"
    }
   ],
   "source": [
    "(9**4+2)*6-1"
   ]
  }
 ],
 "metadata": {
  "kernelspec": {
   "display_name": "Python 3",
   "language": "python",
   "name": "python3"
  },
  "language_info": {
   "codemirror_mode": {
    "name": "ipython",
    "version": 3
   },
   "file_extension": ".py",
   "mimetype": "text/x-python",
   "name": "python",
   "nbconvert_exporter": "python",
   "pygments_lexer": "ipython3",
   "version": "3.10.11"
  },
  "orig_nbformat": 4
 },
 "nbformat": 4,
 "nbformat_minor": 2
}
