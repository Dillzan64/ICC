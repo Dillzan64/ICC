{
 "cells": [
  {
   "cell_type": "markdown",
   "metadata": {},
   "source": [
    "### Capitulo 2\n",
    "#### Preparando o ambiente"
   ]
  },
  {
   "cell_type": "markdown",
   "metadata": {},
   "source": [
    "\n",
    ">Neste capitulo conhecemos o interpretador Python que é responsável por “traduzir” o nosso codigo para que o computador possa compreende-lo, o interpretador indica erros (se houverem) e executa os comandos linha a linha\n",
    ">O livro recomenda a utilização do Python 3.4 pois sofreu diversas alterações entre a versão 2 e 3, nessa etapa o livro nos ensina a baixar e instalar o Python nos sistemas operacionais mais populares (Windows, Linux e Mac), neste trabalho utilizo a versão 3.10 e o interpretador disponível na biblioteca do aplicativo _Vs Code_.\n",
    ">Para prosseguirmos precisamos de um editor de textos especial que suporte a edição em UTF-8 (é um tipo de codificação binaria ou Unicode com suporte a ASCII) o editor utilizado neste trabalho é o já mencionado _Vs Code_, estes editores tornam a compreensão facilitada destacando por cores o codigo indicando: funcoes, variáveis, linhas de erro (se houverem) e permitindo a utilização de acentos, ao salvar adicionamos a extinção que e caracteriza pelo final *_.py_* todos os arquivos Python devem ser salvos neste formato como: *_Exemplo.py_*. Ao terminar seu codigo podemos executá-lo ou testar apertando F5 (no editor idle) ou selecionando a opção _run_ em outros editores Python (lembre-se de salvar antes de executar o programa).\n",
    ">No capítulo 2.4 temos uma listagem de cuidados ao digitamos um programa que resumidamente são: \n",
    "* \tLetras maiúsculas e minúsculas são interpretadas de formas diferentes o que pode gerar erro se utilizamos ou não a capitalização (Ou maiusculização) em alguma função que deveria ser escrita inteiramente com letras minúsculas \n"
   ]
  }
 ],
 "metadata": {
  "language_info": {
   "name": "python"
  },
  "orig_nbformat": 4
 },
 "nbformat": 4,
 "nbformat_minor": 2
}
