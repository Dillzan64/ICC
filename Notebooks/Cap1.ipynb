{
 "cells": [
  {
   "cell_type": "markdown",
   "metadata": {},
   "source": [
    "### Capitulo 1\n",
    "#### Motivação"
   ]
  },
  {
   "cell_type": "markdown",
   "metadata": {},
   "source": [
    "    O capitulo 1 busca desmistificar a programação e motivar o leitor, utilizando de analogias e situações cotidianas para compreendermos a lógica de programação, como acertar um relógio ou se guiar por um mapa, entender a programar é saber como seguir instruções passo a passo em uma ordem específica, e entender a linguagem de programação é como aprender um novo idioma.\n",
    "\tNeste capitulo também é introduzido a linguagem a ser trabalhada a linguagem Python que segundo o livro é uma linguagem simples e poderosa, é também um software livre, compatível com uma enorme variedade de arquiteturas de computadores disponíveis no mercado.  O uso do python é diverso podendo ser utilizado para animações 3D quanto para automação e machine learning\n"
   ]
  }
 ],
 "metadata": {
  "language_info": {
   "name": "python"
  },
  "orig_nbformat": 4
 },
 "nbformat": 4,
 "nbformat_minor": 2
}
