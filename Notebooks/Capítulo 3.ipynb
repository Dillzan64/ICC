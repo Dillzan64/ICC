{
 "cells": [
  {
   "cell_type": "markdown",
   "metadata": {},
   "source": [
    "# Capítulo 3\n",
    "## Variaveis e entrada de dados\n",
    "| Nome         | Permitido  |\n",
    "| ------------ | ---------- |\n",
    "| J1           | Sim        |\n",
    "| Veloc        | Sim        |\n",
    "| Veloc75      | Sim        |\n",
    "| Veloc_Médio  | Sim        |\n",
    "| Veloc Médio  | Não        |\n",
    "| _J           | Sim        |\n",
    "| 1J           | Não        |\n",
    "\n",
    "De forma breve variáveis não podem ter espaços em branco e não podem começar com números, \n",
    ">versões anteriores ao Python 3 não suportam acentuação ao nomear uma variável.  \n"
   ]
  },
  {
   "cell_type": "markdown",
   "metadata": {},
   "source": [
    "### Variáveis numéricas\n",
    "Neste ponto teremos dois tipos principais de variáveis variáveis inteiras e variáveis de ponto flutuante, a diferença e notável visto que com inteiros não teremos nenhuma casa decimal após a virgula, já em uma variável de ponto flutuante (**float**) sempre teremos a parte decimal após a virgula mesmo que o seu valor seja 0.  \n",
    "#### Exercicio 3.1\n",
    "| Numero  | Tipo Numérico   |\n",
    "| ------- | --------------- |\n",
    "| 50      | inteiro         |\n",
    "| 5.0     | ponto flutuante |\n",
    "| 4.3     | ponto flutuante |\n",
    "| -2      | inteiro         |\n",
    "| 100     | inteiro         |\n",
    "| 1.333   | ponto flutuante |"
   ]
  },
  {
   "cell_type": "code",
   "execution_count": null,
   "metadata": {},
   "outputs": [],
   "source": []
  },
  {
   "cell_type": "markdown",
   "metadata": {},
   "source": [
    "### Exercicio 3.2\n",
    "| Expressão | Resultado |\n",
    "| --------- | --------- |\n",
    "| a == c    | Falso     |\n",
    "| a<b       | true      |\n",
    "| d>b       | false     |\n",
    "| c!=f      | true      |\n",
    "| a==b      | false     |\n",
    "| c<d       | false     |\n",
    "| b>a       | true      |\n",
    "| c>=f      | true      |\n",
    "| f>=c      | true      |\n",
    "| c<=c      | true      |\n",
    "| c<=f      | true      |"
   ]
  },
  {
   "cell_type": "markdown",
   "metadata": {},
   "source": [
    "### exercicio 3.3\n",
    "| Expressão | Resultado |\n",
    "| --------- | --------- |\n",
    "| a and a   | True      |\n",
    "| b and b   | False     |\n",
    "| not c     | false     |\n",
    "| not b     | true      |\n",
    "| not a     | false     |\n",
    "| a and b   | false     |\n",
    "| b and c   | false     |\n",
    "| a or c    | true      |\n",
    "| b or c    | true      |\n",
    "| c or a    | true      |\n",
    "| c or b    | true      |\n",
    "| c or c    | true      |\n",
    "| b or b    | false     |"
   ]
  },
  {
   "cell_type": "code",
   "execution_count": 1,
   "metadata": {},
   "outputs": [
    {
     "name": "stdout",
     "output_type": "stream",
     "text": [
      "POBRE NAO PAGA IMPOStO\n"
     ]
    }
   ],
   "source": [
    "#Exercicio 3.4\n",
    "#deverdor de imposto\n",
    "soldo = (float(input(\"Digite aqui o seu salario\")))\n",
    "\n",
    "if soldo > 1200.0:\n",
    "    print(\"PAGUE O IMPOSTO\")\n",
    "else:\n",
    "    print(\"POBRE NAO PAGA IMPOSTO\")\n"
   ]
  },
  {
   "cell_type": "markdown",
   "metadata": {},
   "source": [
    "### Exercicio 3.5\n",
    "| A   | C   | C     | D     | Resultado |\n",
    "| --- | --- | ----- | ----- | --------- |\n",
    "| 1   | 2   | True  | False | False     |\n",
    "| 10  | 3   | False | False | False     |\n",
    "| 5   | 1   | True  | True  | True      |"
   ]
  },
  {
   "cell_type": "code",
   "execution_count": 3,
   "metadata": {},
   "outputs": [
    {
     "name": "stdout",
     "output_type": "stream",
     "text": [
      "Reprovado\n"
     ]
    }
   ],
   "source": [
    "# Exercicio 3.6\n",
    "materia1 = (float(input(\"digite a media da materia 1\")))\n",
    "materia2 = (float(input(\"digite a media da materia 2\")))\n",
    "materia3 = (float(input(\"digite a media da materia 3\")))\n",
    "\n",
    "if materia1 >= 7 <= materia2 >= 7 <= materia3 >= 7:\n",
    "    print(\"Aprovado\")\n",
    "else:\n",
    "    print(\"Reprovado\")"
   ]
  },
  {
   "cell_type": "code",
   "execution_count": 40,
   "metadata": {},
   "outputs": [
    {
     "name": "stdout",
     "output_type": "stream",
     "text": [
      "3\n"
     ]
    }
   ],
   "source": [
    "#exercicio 3.7 \n",
    "#somador de dois numeros inteiros \n",
    "num1 = (int(input(\"Digite um numero inteiro\")))\n",
    "num2 = (int(input(\"digite um numero para somar  com o primeiro\")))\n",
    "print(num1+num2)"
   ]
  },
  {
   "cell_type": "code",
   "execution_count": 64,
   "metadata": {},
   "outputs": [
    {
     "name": "stdout",
     "output_type": "stream",
     "text": [
      "São 22000 mm\n"
     ]
    }
   ],
   "source": [
    "#exercicio 3.8 \n",
    "#conversor de metros para milímetros\n",
    "Unidade = \"mm\"\n",
    "num = (int(input(\"Digite o numero em metros que deseja converter para milímetros\")))\n",
    "print(\"São %d %s\"%(num*1000, Unidade))"
   ]
  },
  {
   "cell_type": "code",
   "execution_count": 112,
   "metadata": {},
   "outputs": [
    {
     "name": "stdout",
     "output_type": "stream",
     "text": [
      "São 3600 segundos!\n"
     ]
    }
   ],
   "source": [
    "#Exercicio 3.9\n",
    "#Somador de segundos\n",
    "#Atenção não deixe nenhuma celula em branco\n",
    "dia = (int(input(\"Digite a quantidade de dias. \")))\n",
    "hrs = (int(input(\"Digite as horas.\")))\n",
    "min = (int(input(\"Digite os minutos.\")))\n",
    "seg = (int(input(\"Digite os segundos.\")))\n",
    "dia = (dia*24) + hrs \n",
    "hrs = dia\n",
    "hrs = (hrs*60) + min\n",
    "min = hrs\n",
    "min =(min*60) + seg\n",
    "seg = min\n",
    "print(\"São %d segundos!\" % seg)"
   ]
  },
  {
   "cell_type": "code",
   "execution_count": 91,
   "metadata": {},
   "outputs": [
    {
     "name": "stdout",
     "output_type": "stream",
     "text": [
      "Seu novo salario é de 1100, o aumento foi de 100 \n"
     ]
    }
   ],
   "source": [
    "#exercicio 3.10\n",
    "#Assalariado\n",
    "soldo = (int(input(\"Digite o salario.\")))\n",
    "amt = (int(input(\"Digite a porcentagem de aumento.\")))\n",
    "amt = (soldo/100 * amt)\n",
    "soldo = amt + soldo\n",
    "print(\"Seu novo salario é de %d, o aumento foi de %d \" % (soldo, amt))"
   ]
  },
  {
   "cell_type": "code",
   "execution_count": 98,
   "metadata": {},
   "outputs": [
    {
     "name": "stdout",
     "output_type": "stream",
     "text": [
      "Sua pechincha foi de 100.00R$ , o valor final é de 900.00\n"
     ]
    }
   ],
   "source": [
    "#Exercicio 3.11\n",
    "#Pechinchador\n",
    "valor = (float(input(\"digite o valor do produto\")))\n",
    "desc = (float(input(\"digite o percentual de desconto\")))\n",
    "desc = (valor/100 * desc)\n",
    "valor = valor - desc\n",
    "print(\"Sua pechincha foi de %5.2fR$ , o valor final é de %5.2fR$\" % (desc, valor))"
   ]
  },
  {
   "cell_type": "code",
   "execution_count": 117,
   "metadata": {},
   "outputs": [
    {
     "name": "stdout",
     "output_type": "stream",
     "text": [
      "O horas estimado para sua viagem é de 11 Horas 40 Minutos e 0 segundos\n"
     ]
    }
   ],
   "source": [
    "#Exercicio 3.12\n",
    "#Temporizador \n",
    "km = (int(input(\"digite a distancia em Km da  sua viagem\")))\n",
    "veloc = (int(input(\"Agora digite a velocidade media esperada\")))\n",
    "tempo = (km/veloc)\n",
    "segundos = tempo * 3600\n",
    "horas = segundos/3600\n",
    "minutos = (segundos % 3600)/60\n",
    "segundos = (segundos % 3600) % 60\n",
    "print(\"O tempo estimado para sua viagem é de %dHoras %dMinutos e %dsegundos\" % (horas, minutos, segundos))"
   ]
  },
  {
   "cell_type": "code",
   "execution_count": 124,
   "metadata": {},
   "outputs": [
    {
     "name": "stdout",
     "output_type": "stream",
     "text": [
      "140.22 Fahrenheit.\n"
     ]
    }
   ],
   "source": [
    "#Exercicio 3.13\n",
    "#Termometro \n",
    "Ctemp = (float(input(\"Digite a temperatura em Celcius que deseja converte em Fahrenheit\")))\n",
    "Ftemp = ((9*Ctemp)/5)+32\n",
    "print(\"%5.2f Fahrenheit.\" % Ftemp)"
   ]
  },
  {
   "cell_type": "code",
   "execution_count": 128,
   "metadata": {},
   "outputs": [
    {
     "name": "stdout",
     "output_type": "stream",
     "text": [
      "Sua conta é de 570.00 R$.\n"
     ]
    }
   ],
   "source": [
    "#Exercicio 3.14\n",
    "#Cobrador localiza\n",
    "dia = (float(input(\"Está a quntos dias com o carro?\")))\n",
    "km = (float(input(\"Digite a quantidade de Km rodado.\")))\n",
    "valor = (dia*60)+(km*0.15)\n",
    "print(\"Sua conta é de %5.2f R$.\"% valor)"
   ]
  },
  {
   "cell_type": "code",
   "execution_count": 141,
   "metadata": {},
   "outputs": [
    {
     "name": "stdout",
     "output_type": "stream",
     "text": [
      "Você já perdeu 1013 Dias fumando\n"
     ]
    }
   ],
   "source": [
    "#Exercicio 3.15\n",
    "#Coveiro\n",
    "cigas = (int(input(\"Quantos cigarros você fuma por dia?\")))\n",
    "anos = (int(input(\"Você fuma a quantos anos?\")))\n",
    "dias = anos*365\n",
    "tempo_perdido = (((cigas*10)/60)/24)*dias\n",
    "print(\"Você já perdeu %d Dias de vida fumando\" % tempo_perdido)"
   ]
  }
 ],
 "metadata": {
  "kernelspec": {
   "display_name": "Python 3",
   "language": "python",
   "name": "python3"
  },
  "language_info": {
   "codemirror_mode": {
    "name": "ipython",
    "version": 3
   },
   "file_extension": ".py",
   "mimetype": "text/x-python",
   "name": "python",
   "nbconvert_exporter": "python",
   "pygments_lexer": "ipython3",
   "version": "3.10.11"
  },
  "orig_nbformat": 4
 },
 "nbformat": 4,
 "nbformat_minor": 2
}
