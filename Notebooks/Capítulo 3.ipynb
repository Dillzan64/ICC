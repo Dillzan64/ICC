{
 "cells": [
  {
   "cell_type": "markdown",
   "metadata": {},
   "source": [
    "#Capítulo 3\n",
    "## Variaveis e entrada de dados\n",
    "| Nome         | Permitido  |\n",
    "| ------------ | ---------- |\n",
    "| J1           | Sim        |\n",
    "| Veloc        | Sim        |\n",
    "| Veloc75      | Sim        |\n",
    "| Veloc_Médio  | Sim        |\n",
    "| Veloc Médio  | Não        |\n",
    "| _J           | Sim        |\n",
    "| 1J           | Não        |\n",
    "\n",
    "De forma breve variáveis não podem ter espaços em branco e não podem começar com números, \n",
    ">versões anteriores ao Python 3 não suportam acentuação ao nomear uma variável.  \n"
   ]
  },
  {
   "cell_type": "markdown",
   "metadata": {},
   "source": [
    "### Variáveis numéricas\n",
    "Neste ponto teremos dois tipos principais de variáveis variáveis inteiras e variáveis de ponto flutuante, a diferença e notável visto que com inteiros não teremos nenhuma casa decimal após a virgula, já em uma variável de ponto flutuante (**float**) sempre teremos a parte decimal após a virgula mesmo que o seu valor seja 0.  \n",
    "#### Exercicio 3.1\n",
    "| Numero  | Tipo Numérico   |\n",
    "| ------- | --------------- |\n",
    "| 50      | inteiro         |\n",
    "| 5.0     | ponto flutuante |\n",
    "| 4.3     | ponto flutuante |\n",
    "| -2      | inteiro         |\n",
    "| 100     | inteiro         |\n",
    "| 1.333   | ponto flutuante |"
   ]
  },
  {
   "cell_type": "markdown",
   "metadata": {},
   "source": [
    "### Exercicio 3.2\n",
    "| Expressão | Resultado |\n",
    "| --------- | --------- |\n",
    "| a == c    | Falso     |\n",
    "| a<b       | true      |\n",
    "| d>b       | false     |\n",
    "| c!=f      | true      |\n",
    "| a==b      | false     |\n",
    "| c<d       | false     |\n",
    "| b>a       | true      |\n",
    "| c>=f      | true      |\n",
    "| f>=c      | true      |\n",
    "| c<=c      | true      |\n",
    "| c<=f      | true      |"
   ]
  },
  {
   "cell_type": "markdown",
   "metadata": {},
   "source": [
    "### exercicio 3.3\n",
    "| Expressão | Resultado |\n",
    "| --------- | --------- |\n",
    "| a and a   | True      |\n",
    "| b and b   | False     |\n",
    "| not c     | false     |\n",
    "| not b     | true      |\n",
    "| not a     | false     |\n",
    "| a and b   | false     |\n",
    "| b and c   | false     |\n",
    "| a or c    | true      |\n",
    "| b or c    | true      |\n",
    "| c or a    | true      |\n",
    "| c or b    | true      |\n",
    "| c or c    | true      |\n",
    "| b or b    | false     |"
   ]
  },
  {
   "cell_type": "code",
   "execution_count": 1,
   "metadata": {},
   "outputs": [],
   "source": [
    "#Exercicio 3.4\n",
    "#deverdor de imposto\n",
    "soldo = (float(input(\"Digite aqui o seu salario\")))\n",
    "\n",
    "if soldo > 1200.0:\n",
    "    print(\"PAGUE O IMPOSTO\")\n",
    "else:\n",
    "    print(\"POBRE NAO PAGA IMPOStO\")\n"
   ]
  }
 ],
 "metadata": {
  "kernelspec": {
   "display_name": "Python 3",
   "language": "python",
   "name": "python3"
  },
  "language_info": {
   "codemirror_mode": {
    "name": "ipython",
    "version": 3
   },
   "file_extension": ".py",
   "mimetype": "text/x-python",
   "name": "python",
   "nbconvert_exporter": "python",
   "pygments_lexer": "ipython3",
   "version": "3.10.11"
  },
  "orig_nbformat": 4
 },
 "nbformat": 4,
 "nbformat_minor": 2
}
