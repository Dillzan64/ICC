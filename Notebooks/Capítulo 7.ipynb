{
 "cells": [
  {
   "cell_type": "code",
   "execution_count": 4,
   "metadata": {},
   "outputs": [
    {
     "name": "stdout",
     "output_type": "stream",
     "text": [
      "aa esta na posição 0 de aaaa\n"
     ]
    }
   ],
   "source": [
    "#Exercicio 7.1\n",
    "str = input(\"Digite a primeira string\")\n",
    "str2 = input(\"Digite a segunda string\")\n",
    "local = str.find(str2)\n",
    "if local == -1:\n",
    "    print(\"%s não exite em %s\"% (str2, str))\n",
    "elif local > -1:\n",
    "    print(\"%s esta na posição %d de %s\"%(str2,local,str))"
   ]
  },
  {
   "cell_type": "code",
   "execution_count": null,
   "metadata": {},
   "outputs": [],
   "source": [
    "#Exercicio 7.2\n",
    "str1 =input(\"Digite algo\")\n",
    "str2 =input(\"Digite outra coisa\")\n",
    "str3 = \"\"\n",
    "for char in str1:\n",
    "    if char in str2 and char in str1:\n",
    "        str3 += char\n",
    "print(\"encotrei os seguintes caracteres em comum %s\"% str3)"
   ]
  },
  {
   "cell_type": "code",
   "execution_count": 18,
   "metadata": {},
   "outputs": [
    {
     "name": "stdout",
     "output_type": "stream",
     "text": [
      "456\n",
      "\n",
      "\n",
      "encotrei os seguintes caracteres incomuns \n"
     ]
    }
   ],
   "source": [
    "#Exercicio 7.3\n",
    "str1 =input(\"Digite algo\")\n",
    "str2 =input(\"Digite outra coisa\")\n",
    "str3 = \"\"\n",
    "str4 = \"\"\n",
    "str5 = \"\"\n",
    "for char in str1:\n",
    "    if char in str1 and char not in str2:\n",
    "        str3 += char\n",
    "print(\"encotrei os seguintes caracteres incomuns %s\" % str3)"
   ]
  }
 ],
 "metadata": {
  "kernelspec": {
   "display_name": "Python 3",
   "language": "python",
   "name": "python3"
  },
  "language_info": {
   "codemirror_mode": {
    "name": "ipython",
    "version": 3
   },
   "file_extension": ".py",
   "mimetype": "text/x-python",
   "name": "python",
   "nbconvert_exporter": "python",
   "pygments_lexer": "ipython3",
   "version": "3.10.11"
  },
  "orig_nbformat": 4
 },
 "nbformat": 4,
 "nbformat_minor": 2
}
