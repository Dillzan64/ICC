{
 "cells": [
  {
   "cell_type": "markdown",
   "metadata": {},
   "source": [
    "### Capitulo 1\n",
    "#### Motivação"
   ]
  },
  {
   "cell_type": "markdown",
   "metadata": {},
   "source": [
    "> \tO capitulo 1 busca desmistificar a programação e motivar o leitor, utilizando de analogias e situações cotidianas para compreendermos a lógica de programação, como acertar um relógio ou se guiar por um mapa, entender a programar é saber como seguir instruções passo a passo em uma ordem específica, e entender a linguagem de programação é como aprender um novo idioma. \n",
    "> \tNeste capitulo também é introduzido a linguagem a ser trabalhada a linguagem Python que segundo o livro é uma linguagem simples e poderosa, é também um software livre, compatível com uma enorme variedade de arquiteturas de computadores disponíveis no mercado.  O uso do python é diverso podendo ser utilizado para animações 3D quanto para automação e *machine learning*. \n",
    ">  Outra vantagem do python é a facilidade de compreender os códigos  por não ter uma poluição visual muito grande de marcadores e sua extensa quantidade de bibliotecas disponíveis permitindo que o desenvolvedor tenha o foco exatamente no que precisa     \n"
   ]
  },
  {
   "cell_type": "markdown",
   "metadata": {},
   "source": [
    "#### Listagem 1.1 \n",
    "##### O primeiro programa"
   ]
  },
  {
   "cell_type": "code",
   "execution_count": 1,
   "metadata": {},
   "outputs": [
    {
     "name": "stdout",
     "output_type": "stream",
     "text": [
      "Olá mundo\n"
     ]
    }
   ],
   "source": [
    "print(\"Olá mundo\")"
   ]
  },
  {
   "cell_type": "markdown",
   "metadata": {},
   "source": [
    ">Nesse primeiro programa utilizamos apenas a função **_print_** que é utilizada para imprimir os dados na tela.\n",
    ">Tudo que for escrito entre aspas após o codigo **_print_** será impresso na tela, as aspas tem função apenas de limitar o início e o fim dos dados impressos, pois sem elas o computador não conseguirá interpretar o comando e gerará um erro. "
   ]
  }
 ],
 "metadata": {
  "kernelspec": {
   "display_name": "Python 3",
   "language": "python",
   "name": "python3"
  },
  "language_info": {
   "codemirror_mode": {
    "name": "ipython",
    "version": 3
   },
   "file_extension": ".py",
   "mimetype": "text/x-python",
   "name": "python",
   "nbconvert_exporter": "python",
   "pygments_lexer": "ipython3",
   "version": "3.10.11"
  },
  "orig_nbformat": 4
 },
 "nbformat": 4,
 "nbformat_minor": 2
}
