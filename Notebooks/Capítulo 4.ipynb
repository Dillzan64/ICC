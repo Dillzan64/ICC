{
 "cells": [
  {
   "cell_type": "markdown",
   "metadata": {},
   "source": [
    "#Capitulo 4"
   ]
  },
  {
   "cell_type": "markdown",
   "metadata": {},
   "source": [
    "### Exercicio 4.1 \n",
    "Se os valores forem iguais o programa não entregara nenhum resultado."
   ]
  },
  {
   "cell_type": "code",
   "execution_count": 5,
   "metadata": {},
   "outputs": [
    {
     "name": "stdout",
     "output_type": "stream",
     "text": [
      "Continue seguro\n"
     ]
    }
   ],
   "source": [
    "#Exercicio 4.2\n",
    "#Radar \n",
    "veloc = (int(input(\"digite a sua velocidade em km/h.\")))\n",
    "multa = (veloc-80)*5\n",
    "if veloc > 80:\n",
    "    print(\"voce foi multado em %d R$!!\" % multa)\n",
    "else:\n",
    "    print(\"Continue seguro\")"
   ]
  },
  {
   "cell_type": "code",
   "execution_count": 10,
   "metadata": {},
   "outputs": [
    {
     "name": "stdout",
     "output_type": "stream",
     "text": [
      "2\n",
      "1\n"
     ]
    }
   ],
   "source": [
    "#exercicio 4.3\n",
    "#maior menor\n",
    "a = (int(input(\"digite um numero.\")))\n",
    "b = (int(input(\"digite um segundo numero dierente do primero. \")))\n",
    "c = (int(input(\"digite um terceiro numero diferente do primeiro e do segundo. \")))\n",
    "if b < a > c:\n",
    "    print(a)\n",
    "    if b > c:\n",
    "        print(c)\n",
    "    else:\n",
    "        print(b)\n",
    "if a < b > c:\n",
    "    print(b)\n",
    "    if a > c:\n",
    "        print(c)\n",
    "    else:\n",
    "        print(a)\n",
    "if b < c > a:\n",
    "    print(c)\n",
    "    if b > a:\n",
    "        print(a)\n",
    "    else:\n",
    "        print(b)"
   ]
  },
  {
   "cell_type": "code",
   "execution_count": 19,
   "metadata": {},
   "outputs": [
    {
     "name": "stdout",
     "output_type": "stream",
     "text": [
      "Seu novo salário é de 919R$ \n"
     ]
    }
   ],
   "source": [
    "#exercicio 4.4\n",
    "#aumento v2\n",
    "soldo = (float(input(\"Digite o seu salario.\")))\n",
    "if soldo >= 1250.00:\n",
    "    soldo = soldo*1.1\n",
    "    print(\"Seu novo salário é de %dR$ \"% soldo)\n",
    "else:\n",
    "    soldo = soldo*1.15\n",
    "    print(\"Seu novo salário é de %dR$ \"% soldo)"
   ]
  },
  {
   "cell_type": "code",
   "execution_count": 6,
   "metadata": {},
   "outputs": [
    {
     "name": "stdout",
     "output_type": "stream",
     "text": [
      "Seu carro é velho!!!\n"
     ]
    }
   ],
   "source": [
    "#exercicio 4.5\n",
    "idade = int(input(\"Digite a idade do seu carro.\"))\n",
    "if idade <= 3:\n",
    "    print(\"Seu carro é velho!!!\")\n",
    "else:\n",
    "    print(\"Seu carro é novo!!!\")\n"
   ]
  },
  {
   "cell_type": "markdown",
   "metadata": {},
   "source": [
    "### exercicio 4.5\n",
    "funcionou exatamente como a listagem "
   ]
  },
  {
   "cell_type": "code",
   "execution_count": 17,
   "metadata": {},
   "outputs": [
    {
     "name": "stdout",
     "output_type": "stream",
     "text": [
      "O valor da sua corrida é de 100.00 R$\n"
     ]
    }
   ],
   "source": [
    "#Exercicio 4.6\n",
    "#taximetro \n",
    "km = float(input(\"Digite a distancia da viagem.\"))\n",
    "if km <= 200:\n",
    "    preço = km*0.50\n",
    "else:\n",
    "    preço = km*0.45\n",
    "print(\"O valor da sua corrida é de %5.2f R$\" % preço)"
   ]
  },
  {
   "cell_type": "code",
   "execution_count": null,
   "metadata": {},
   "outputs": [],
   "source": [
    "#Exercicio 4.7\n",
    "categoria = int(input(\"Digite a categoria do produto:\"))   \n",
    "if categoria == 1:\n",
    "        preço = 10\n",
    "else:\n",
    "    if categoria == 2:\n",
    "        preço = 18\n",
    "    else:\n",
    "        if categoria == 3:\n",
    "            preço = 23\n",
    "        else:\n",
    "            if categoria == 4:\n",
    "                preço = 26\n",
    "            else:\n",
    "                if categoria == 5:\n",
    "                    preço = 31\n",
    "                else:\n",
    "                    print(\"Categoria inválida, digite um valor entre 1 e 5!\")\n",
    "                    preço = 0\n",
    "print(\"O     preço do produto é: R$%6.2f\" %  preço)"
   ]
  },
  {
   "cell_type": "code",
   "execution_count": 19,
   "metadata": {},
   "outputs": [
    {
     "name": "stdout",
     "output_type": "stream",
     "text": [
      "Calculadora: 1 Adição; 2 Subtração; 3 multiplicação; 4 divisão.\n",
      "O resultado da sua operação é 1.20 .\n"
     ]
    }
   ],
   "source": [
    "#Exercicio 4.8\n",
    "print(\"Calculadora: 1 Adição; 2 Subtração; 3 multiplicação; 4 divisão.\")   \n",
    "operação = int(input(\"selecione o tipo de operacão que deseja realizar.\"))\n",
    "if operação == 1:\n",
    "    a = int(input(\"Digite o Primeiro numero que deseja somar.\"))\n",
    "    b = int(input(\"Digite o segundo numero a ser somado.\"))\n",
    "    c = a+b\n",
    "elif operação == 2:\n",
    "    a = int(input(\"Digite o numero que deseja subtrair.\"))\n",
    "    b = int(input(\"Digite o segundo numero a ser subtraido.\"))\n",
    "    c = a-b\n",
    "elif operação == 3:\n",
    "    a = int(input(\"Digite um numero para ser multiplicado.\"))\n",
    "    b = int(input(\"Digite um numero para multiplicar o anterior.\"))\n",
    "    c = a*b\n",
    "elif operação == 4:\n",
    "    a = float(input(\"Digite um numero a ser dividido\"))\n",
    "    b = float(input(\"Digite um numero para dividir o anterior\"))\n",
    "    c = a/b\n",
    "else:\n",
    "    print(\"seleção invalida por favor selecione uma das quatro operações\")\n",
    "    c = 0\n",
    "print(\"O resultado da sua operação é %4.2f .\"% c)\n"
   ]
  },
  {
   "cell_type": "code",
   "execution_count": 34,
   "metadata": {},
   "outputs": [
    {
     "name": "stdout",
     "output_type": "stream",
     "text": [
      "Parabens por finaciar sua nova casa! sua prestação é de 333.33\n"
     ]
    }
   ],
   "source": [
    "#Exercicio 4.9\n",
    "#caixa\n",
    "salario = float(input(\"Digite o seu salario\"))\n",
    "preço = float(input(\"Digite o valor da casa que deseja.\"))\n",
    "anos = float(input(\"Em quantos anos pretende pagar?\"))\n",
    "salario = salario*0.30\n",
    "parcela = preço/(anos*12)\n",
    "if salario < parcela:\n",
    "    print(\"Salário insuficiente, seu finaciameto foi NEGADO!!!\")\n",
    "else:\n",
    "    print(\"Parabens por finaciar sua nova casa!, sua prestação é de %5.2f\" % parcela)"
   ]
  },
  {
   "cell_type": "code",
   "execution_count": 51,
   "metadata": {},
   "outputs": [
    {
     "name": "stdout",
     "output_type": "stream",
     "text": [
      "r = Residencial; c = Comercial; i = Industrial\n",
      "Sua conta de energia é de 650.00 R$\n"
     ]
    }
   ],
   "source": [
    "#Exercicio 4.10\n",
    "#Equatorial \n",
    "print(\"r = Residencial; c = Comercial; i = Industrial\")\n",
    "tipo = str(input(\"Digite o seu tipo de instalação\"))\n",
    "consumo = float(input(\"Digite o seu consumo em kWh\"))\n",
    "if tipo == \"r\" and consumo <= 500:\n",
    "    conta = consumo*0.40\n",
    "elif tipo == \"r\" and consumo > 500:\n",
    "    conta = consumo*0.65\n",
    "elif tipo == \"c\" and consumo <= 1000:\n",
    "    conta = consumo*0.55\n",
    "elif tipo == \"c\" and consumo > 1000:\n",
    "    conta = consumo*0.60\n",
    "elif tipo == \"i\" and consumo <= 5000:\n",
    "    conta = consumo*0.55\n",
    "elif tipo == \"i\" and consumo > 5000:\n",
    "    conta = consumo*0.60\n",
    "else: \n",
    "    print(\"Seleção invalida!!!\")\n",
    "    conta = 0\n",
    "print(\"Sua conta de energia é de %5.2f R$\" %conta )\n",
    "\n"
   ]
  }
 ],
 "metadata": {
  "kernelspec": {
   "display_name": "Python 3",
   "language": "python",
   "name": "python3"
  },
  "language_info": {
   "codemirror_mode": {
    "name": "ipython",
    "version": 3
   },
   "file_extension": ".py",
   "mimetype": "text/x-python",
   "name": "python",
   "nbconvert_exporter": "python",
   "pygments_lexer": "ipython3",
   "version": "3.10.11"
  },
  "orig_nbformat": 4
 },
 "nbformat": 4,
 "nbformat_minor": 2
}
