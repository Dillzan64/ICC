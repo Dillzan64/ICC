{
 "cells": [
  {
   "cell_type": "code",
   "execution_count": null,
   "metadata": {},
   "outputs": [],
   "source": [
    "#Exercicio 6.1\n",
    "notas=[0,0,0,0,0,0,0]\n",
    "soma=0\n",
    "x=0\n",
    "while x<7:\n",
    "    notas[x]=float(input(\"Nota %d:\" % x))\n",
    "    soma += notas[x]\n",
    "    x+=1\n",
    "x=0 \n",
    "while x<7:\n",
    "    print(\"Nota %d: %6.2f\" % (x, notas[x]))\n",
    "    x+=1\n",
    "    print(\"Média: %5.2f\" % (soma/x))"
   ]
  },
  {
   "cell_type": "code",
   "execution_count": 1,
   "metadata": {},
   "outputs": [
    {
     "name": "stdout",
     "output_type": "stream",
     "text": [
      "0: 1\n",
      "1: 2\n",
      "2: 3\n",
      "3: 3\n",
      "4: 4\n",
      "5: 5\n",
      "6: 6\n"
     ]
    }
   ],
   "source": [
    "#Exercicio 6.2\n",
    "L1 = []\n",
    "L2 = []\n",
    "while True:\n",
    "    x = int(input(\"Digite um valor para adicionara lista ou digite 0 para sair.\"))\n",
    "    if x == 0:\n",
    "        break\n",
    "    L1.append(x)\n",
    "while True:\n",
    "    x = int(input(\"Digite um valor para a segunda lista ou digite 0 para sair. \"))\n",
    "    if x == 0:\n",
    "        break\n",
    "    L2.append(x)\n",
    "L3 = L1[:]  \n",
    "L3.extend(L2)\n",
    "x = 0\n",
    "while x < len(L3):\n",
    "    print(\"(x): (L3[x])\")\n",
    "    x += 1"
   ]
  },
  {
   "cell_type": "code",
   "execution_count": 7,
   "metadata": {},
   "outputs": [
    {
     "name": "stdout",
     "output_type": "stream",
     "text": [
      "0: 1\n",
      "1: 2\n",
      "2: 3\n",
      "3: 4\n",
      "4: 5\n",
      "5: 6\n"
     ]
    }
   ],
   "source": [
    "#Exercicio 6.3\n",
    "L1 = []\n",
    "L2 = []\n",
    "L3 = []\n",
    "L4 = []\n",
    "while True:\n",
    "    e = int(input(\"Digite um valor para adicionar a lista ou digite 0 para sair:\"))\n",
    "    if e==0:\n",
    "        break\n",
    "    L1.append(e)\n",
    "while True:\n",
    "    e = int(input(\"Digite um valor para adicionar a segunda lista ou digite 0 para sair:\"))\n",
    "    if e ==0:\n",
    "        break\n",
    "    L1.append(e)\n",
    "L4 = L1[:]\n",
    "L4.extend(L2)\n",
    "x=0\n",
    "while x < len(L4):\n",
    "    y = 0\n",
    "    while y < len(L3):\n",
    "        if L4[x] == L3[y]:\n",
    "            break;\n",
    "        y+=1\n",
    "    if y == len(L3):\n",
    "        L3.append(L4[x])\n",
    "    x+=1\n",
    "x=0\n",
    "while x < len(L3):\n",
    "    print(\"%d: %d\" % (x, L3[x]))\n",
    "    x+=1"
   ]
  },
  {
   "cell_type": "code",
   "execution_count": null,
   "metadata": {},
   "outputs": [],
   "source": [
    "#Exercicio 6.4\n",
    "fila = []\n",
    "fila.pop(0)"
   ]
  },
  {
   "cell_type": "code",
   "execution_count": 2,
   "metadata": {},
   "outputs": [],
   "source": [
    "#Exercicio 6.5\n",
    "último = 10\n",
    "x = 0\n",
    "fila = list(range(1,último+1))\n",
    "while True:\n",
    "     print(\"\\nExistem %d clientes na fila\" % len(fila))\n",
    "     print(\"Fila atual:\", fila)\n",
    "     print(\"Digite F para adicionar um cliente ao fim da fila,\")\n",
    "     print(\"ou A para realizar o atendimento. S para sair.\")\n",
    "     operação = list(input(\"Operação (F, A ou S):\"))\n",
    "     while x < len(operação):\n",
    "         if operação[x] == \"A\":\n",
    "             if(len(fila)) > 0:\n",
    "                   atendido  = fila.pop(0)\n",
    "                   print(\"Cliente %d atendido\" % atendido)\n",
    "             else:\n",
    "                   print(\"Fila vazia! Ninguém para atender.\")\n",
    "         elif operação[x] == \"F\":\n",
    "             último += 1 \n",
    "             fila.append(último)\n",
    "         elif operação[x] == \"S\":\n",
    "             break\n",
    "         else:\n",
    "             print(\"Operação inválida: %s na posição %d! Digite apenas F, A ou S!\" % (operação[x],x))\n",
    "             break\n",
    "         x +=1"
   ]
  },
  {
   "cell_type": "code",
   "execution_count": null,
   "metadata": {},
   "outputs": [],
   "source": [
    "#Exercicio 6.6 #Dando erro //string index out of range\n",
    "L1 = []\n",
    "L2 = []\n",
    "select = []\n",
    "ultimo1 = 5\n",
    "ultimo2 = 5\n",
    "x = 0\n",
    "L1 = list(range(1,ultimo1+1))\n",
    "L2 = list(range(1,ultimo2+1))\n",
    "while True:\n",
    "    print(\"\\nExistem %d clientes na fila A e %d clientes na fila B\"%(len(L1),len(L2)))\n",
    "    print(\"Fila A\", L1,\"Fila B\", L2)\n",
    "    print(\"Digite F para adicionar um cliente na fila 1 ou G para a fila 2.\")\n",
    "    print(\"Ou A para atendimento na fila 1 e B para a fila 2.( S para sair)\")\n",
    "    select = list(input(\"Selecione o que deseja realizar(F; G; A; B; ou S para sair.)\"))    \n",
    "    Sair = False\n",
    "    x = 0\n",
    "    while len(select) > 0:\n",
    "        if select[x] == \"F\":\n",
    "            ultimo1 += 1\n",
    "            L1.append(ultimo1)\n",
    "        elif select[x] == \"G\":\n",
    "            ultimo2 += 1\n",
    "            L2.append(ultimo2)\n",
    "        elif select[x] == \"A\":\n",
    "            if(len(L1)) > 0:\n",
    "                L1.pop(0)\n",
    "                print(\"Cliente atendido na fila 1\")\n",
    "            else:\n",
    "                print(\"Fila vazia!!!\")\n",
    "        elif select[x] == \"B\":\n",
    "            if(len(L2)) > 0:\n",
    "                L2.pop(0)\n",
    "                print(\"Cliente atendido na fila 2\")\n",
    "            else:\n",
    "                print(\"Fila vazia!!!\")            \n",
    "        elif select[x] == \"S\":\n",
    "            Sair = True\n",
    "            break        \n",
    "        else:\n",
    "            print(\"Opção invalida.\")\n",
    "        x+=1\n",
    "    if (Sair):\n",
    "        break\n"
   ]
  },
  {
   "cell_type": "code",
   "execution_count": 9,
   "metadata": {},
   "outputs": [
    {
     "name": "stdout",
     "output_type": "stream",
     "text": [
      "TUDO CERTO\n"
     ]
    }
   ],
   "source": [
    "#Exercicio 6.7\n",
    "L1 = input(\"Digite os parenteses:\")\n",
    "L1= []\n",
    "count = 0\n",
    "while count<len(L1):\n",
    "    if(L1[count] == \"(\"):\n",
    "        L1.append(\"(\")\n",
    "    if(L1[count] == \")\"):\n",
    "        if(len(L1)>0):\n",
    "            ultimo = L1.pop(-1)\n",
    "        else:\n",
    "            L1.append(\")\") \n",
    "            break\n",
    "    count += 1\n",
    "if(len(L1) == 0):\n",
    "    print(\"TUDO CERTO\")\n",
    "else:\n",
    "    print(\"Erro\")"
   ]
  },
  {
   "cell_type": "code",
   "execution_count": 15,
   "metadata": {},
   "outputs": [
    {
     "name": "stdout",
     "output_type": "stream",
     "text": [
      "2 objeto encontrado esta no indice 1 \n"
     ]
    }
   ],
   "source": [
    "#Exercicio 6.8\n",
    "count = 0\n",
    "L1 = [1,2,3,4,5,6,7,8,9,0]\n",
    "busc = int(input(\"Digite o valor que deseja procurar na lista:\"))\n",
    "while count < len(L1):\n",
    "     if L1[count] == busc:\n",
    "         break\n",
    "     count += 1\n",
    "if count < len(L1):\n",
    "     print(\"%d objeto encontrado esta no indice %d \" % (busc, count))\n",
    "else:\n",
    "     print(\"%d objeto não existe\" % busc)\n"
   ]
  },
  {
   "cell_type": "code",
   "execution_count": 6,
   "metadata": {},
   "outputs": [
    {
     "name": "stdout",
     "output_type": "stream",
     "text": [
      "p 15 encontrado\n",
      "achei v primeiro\n",
      "v 7 encontrado\n",
      "achei v primeiro\n"
     ]
    }
   ],
   "source": [
    "#Exercicio 6.9\n",
    "L1 = [15,7,27,39]\n",
    "p = int(input(\"Digite o valor p:\"))\n",
    "v = int(input(\"Digite o valor v:\"))\n",
    "count = 0\n",
    "aP = False\n",
    "aV = False\n",
    "First = 0\n",
    "while count < len(L1):\n",
    "     if L1[count] == p:\n",
    "        aP = True\n",
    "        if not aP:\n",
    "            First = 1\n",
    "     if L1[count] == v:\n",
    "        aV = True\n",
    "        if not aV:\n",
    "            First = 2\n",
    "     count += 1\n",
    "if aP:\n",
    "     print(\"p %d encontrado\" % p)\n",
    "     if First == 1:\n",
    "          print(\"achei p primeiro\")\n",
    "     else:\n",
    "          print(\"achei v primeiro\")    \n",
    "else:\n",
    "     print(\"p %d não existe\" % p)\n",
    "if aV:\n",
    "     print(\"v %d encontrado\" % v)\n",
    "     if First == 1:\n",
    "          print(\"achei p primeiro\")\n",
    "     else:\n",
    "          print(\"achei v primeiro\")\n",
    "else:\n",
    "     print(\"v %d não existe\" % v)\n"
   ]
  },
  {
   "cell_type": "code",
   "execution_count": null,
   "metadata": {},
   "outputs": [],
   "source": [
    "#Exercicio 6.10\n",
    "L1 = [15,7,27,39]\n",
    "p = int(input(\"Digite o valor p:\"))\n",
    "v = int(input(\"Digite o valor v:\"))\n",
    "count = 0\n",
    "aP = False\n",
    "aV = False\n",
    "First = 0\n",
    "while count < len(L1):\n",
    "     if L1[count] == p:\n",
    "        aP = True\n",
    "        x = count\n",
    "        if not aP:\n",
    "            First = 1\n",
    "     if L1[count] == v:\n",
    "        aV = True\n",
    "        y = count\n",
    "        if not aV:\n",
    "            First = 2\n",
    "     count += 1\n",
    "if aP:\n",
    "     print(\"p %d encontrado em indice %d.\" % (p, x))\n",
    "     if First == 1:\n",
    "          print(\"achei p primeiro\")\n",
    "     else:\n",
    "          print(\"achei v primeiro\")    \n",
    "else:\n",
    "     print(\"p %d não existe\" % p)\n",
    "if aV:\n",
    "     print(\"v %d encontrado em indice %d.\" % (v, y))\n",
    "     if First == 1:\n",
    "          print(\"achei p primeiro\")\n",
    "     else:\n",
    "          print(\"achei v primeiro\")\n",
    "else:\n",
    "     print(\"v %d não existe\" % v)\n",
    "\n"
   ]
  },
  {
   "cell_type": "code",
   "execution_count": 11,
   "metadata": {},
   "outputs": [
    {
     "name": "stdout",
     "output_type": "stream",
     "text": [
      "5\n",
      "5\n"
     ]
    }
   ],
   "source": [
    "#Exercicio 6.11\n",
    "L1 = []\n",
    "while True:\n",
    "     x = int(input(\"Digite um numero ou digite 0 para sair:\"))\n",
    "     if x == 0:\n",
    "         break\n",
    "     L1.append(x)\n",
    "for e in L1:\n",
    "    print(e)"
   ]
  },
  {
   "cell_type": "code",
   "execution_count": 16,
   "metadata": {},
   "outputs": [
    {
     "name": "stdout",
     "output_type": "stream",
     "text": [
      "4\n"
     ]
    }
   ],
   "source": [
    "#Exercicicio 6.12\n",
    "L1 =[8,9,5,4,7,6]\n",
    "minimo = L1[0]\n",
    "for e in L1:\n",
    "    if e < minimo:\n",
    "        minimo = e\n",
    "print(minimo)"
   ]
  },
  {
   "cell_type": "code",
   "execution_count": 38,
   "metadata": {},
   "outputs": [
    {
     "name": "stdout",
     "output_type": "stream",
     "text": [
      "O minimo foi de -10 \n",
      "O Maximo foi de 5 \n",
      "a media foi de  -2.0 \n"
     ]
    }
   ],
   "source": [
    "#Exercicio 6.13\n",
    "L1 =[-10,-8,1,0,2,5,-2,-4]\n",
    "minimo = L1[0]\n",
    "maximo = L1[0]\n",
    "x = 0\n",
    "for e in L1:\n",
    "    if e < minimo:\n",
    "        minimo = e\n",
    "    elif e > maximo:\n",
    "        maximo = e\n",
    "    x += e\n",
    "x/=len(L1)    \n",
    "print(\"O minimo foi de %d \"% minimo)\n",
    "print(\"O Maximo foi de %d \"% maximo)\n",
    "print( \"a media foi de %5.1f \"% x)"
   ]
  },
  {
   "cell_type": "code",
   "execution_count": 1,
   "metadata": {},
   "outputs": [
    {
     "name": "stdout",
     "output_type": "stream",
     "text": [
      "5\n",
      "4\n",
      "3\n",
      "2\n",
      "1\n"
     ]
    }
   ],
   "source": [
    "#Exercicio 6.16\n",
    "L1 = [1,2,3,4,5]\n",
    "fim = 5\n",
    "while fim > 1:\n",
    "     trocou = False\n",
    "     x = 0\n",
    "     while x < (fim-1):\n",
    "         if L1[x] < L1[x+1]: \n",
    "               trocou = True\n",
    "               temp = L1[x]\n",
    "               L1[x] = L1[x+1]\n",
    "               L1[x+1] = temp\n",
    "         x += 1\n",
    "     if not trocou:\n",
    "         break\n",
    "     fim -= 1\n",
    "for e in L1:\n",
    "     print(e)\n"
   ]
  }
 ],
 "metadata": {
  "kernelspec": {
   "display_name": "Python 3",
   "language": "python",
   "name": "python3"
  },
  "language_info": {
   "codemirror_mode": {
    "name": "ipython",
    "version": 3
   },
   "file_extension": ".py",
   "mimetype": "text/x-python",
   "name": "python",
   "nbconvert_exporter": "python",
   "pygments_lexer": "ipython3",
   "version": "3.10.11"
  },
  "orig_nbformat": 4
 },
 "nbformat": 4,
 "nbformat_minor": 2
}
