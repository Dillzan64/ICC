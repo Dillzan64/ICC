{
 "cells": [
  {
   "cell_type": "code",
   "execution_count": null,
   "metadata": {},
   "outputs": [],
   "source": [
    "#Exercicio 6.1\n",
    "notas=[0,0,0,0,0,0,0]\n",
    "soma=0\n",
    "x=0\n",
    "while x<7:\n",
    "    notas[x]=float(input(\"Nota %d:\" % x))\n",
    "    soma += notas[x]\n",
    "    x+=1\n",
    "x=0 \n",
    "while x<7:\n",
    "    print(\"Nota %d: %6.2f\" % (x, notas[x]))\n",
    "    x+=1\n",
    "    print(\"Média: %5.2f\" % (soma/x))"
   ]
  },
  {
   "cell_type": "code",
   "execution_count": 1,
   "metadata": {},
   "outputs": [
    {
     "name": "stdout",
     "output_type": "stream",
     "text": [
      "0: 1\n",
      "1: 2\n",
      "2: 3\n",
      "3: 3\n",
      "4: 4\n",
      "5: 5\n",
      "6: 6\n"
     ]
    }
   ],
   "source": [
    "#Exercicio 6.2\n",
    "L1 = []\n",
    "L2 = []\n",
    "while True:\n",
    "    x = int(input(\"Digite um valor para adicionara lista ou digite 0 para sair.\"))\n",
    "    if x == 0:\n",
    "        break\n",
    "    L1.append(x)\n",
    "while True:\n",
    "    x = int(input(\"Digite um valor para a segunda lista ou digite 0 para sair. \"))\n",
    "    if x == 0:\n",
    "        break\n",
    "    L2.append(x)\n",
    "L3 = L1[:]  \n",
    "L3.extend(L2)\n",
    "x = 0\n",
    "while x < len(L3):\n",
    "    print(\"{x}: {L3[x]}\")\n",
    "    x += 1"
   ]
  },
  {
   "cell_type": "code",
   "execution_count": null,
   "metadata": {},
   "outputs": [],
   "source": [
    "#Exercicio 6.3\n",
    "L1 = []\n",
    "L2 = []\n",
    "L3 = []\n",
    "L4 = []\n",
    "while True:\n",
    "    e = int(input(\"Digite um valor para adicionar a lista ou digite 0 para sair:\"))\n",
    "    if e==0:\n",
    "        break\n",
    "    L1.append(e)\n",
    "while True:\n",
    "    e = int(input(\"Digite um valor para adicionar a segunda lista ou digite 0 para sair:\"))\n",
    "    if e ==0:\n",
    "        break\n",
    "    L1.append(e)\n",
    "L4 = L1[:]\n",
    "L4.extend(L2)\n",
    "x=0\n",
    "while x < len(L4):\n",
    "    y = 0\n",
    "    while y < len(L3):\n",
    "        if L4[x] == L3[y]:\n",
    "            break;\n",
    "        y+=1\n",
    "    if y == len(L3):\n",
    "        L3.append(L4[x])\n",
    "    x+=1\n",
    "x=0\n",
    "while x < len(L3):\n",
    "    print(\"%d: %d\" % (x, L3[x]))\n",
    "    x+=1"
   ]
  },
  {
   "cell_type": "code",
   "execution_count": null,
   "metadata": {},
   "outputs": [],
   "source": [
    "#Exercicio 6.4\n"
   ]
  }
 ],
 "metadata": {
  "kernelspec": {
   "display_name": "Python 3",
   "language": "python",
   "name": "python3"
  },
  "language_info": {
   "codemirror_mode": {
    "name": "ipython",
    "version": 3
   },
   "file_extension": ".py",
   "mimetype": "text/x-python",
   "name": "python",
   "nbconvert_exporter": "python",
   "pygments_lexer": "ipython3",
   "version": "3.10.11"
  },
  "orig_nbformat": 4
 },
 "nbformat": 4,
 "nbformat_minor": 2
}
